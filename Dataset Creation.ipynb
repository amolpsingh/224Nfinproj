{
 "cells": [
  {
   "cell_type": "code",
   "execution_count": null,
   "metadata": {},
   "outputs": [],
   "source": [
    "import pandas as pd\n",
    "import os"
   ]
  },
  {
   "cell_type": "code",
   "execution_count": null,
   "metadata": {},
   "outputs": [],
   "source": [
    "d = pd.read_csv(\"data/twtc.csv\")\n",
    "scouting_data = d[['text', 'label']]\n",
    "#print(scouting_data.shape)\n",
    "#scouting_data.head()\n",
    "scouting_data.to_csv(\"data/scouting_data.csv\")"
   ]
  },
  {
   "cell_type": "code",
   "execution_count": null,
   "metadata": {},
   "outputs": [],
   "source": [
    "sports_files = os.listdir(\"data/SportsArticles/Raw data\")\n",
    "texts = []\n",
    "for filename in sports_files:\n",
    "    path = \"data/SportsArticles/Raw data/\" + filename\n",
    "    with open(path, encoding = \"utf8\", errors = 'ignore') as f:\n",
    "        t = f.read()\n",
    "        texts.append(t)\n",
    "sports_article_data = pd.DataFrame(texts, columns = ['text'])\n",
    "#print(sports_article_data.shape)\n",
    "#sports_article_data.head()\n",
    "sports_article_data.to_csv(\"data/sports_article_data.csv\")"
   ]
  },
  {
   "cell_type": "code",
   "execution_count": null,
   "metadata": {},
   "outputs": [],
   "source": [
    "wiki_data = pd.read_csv(\"data/wiki_sentences.txt\", sep = '\\n', header = None, on_bad_lines = 'skip', names = ['text'])\n",
    "#print(wiki_data.shape)\n",
    "#wiki_data.head()\n",
    "wiki_data.to_csv(\"data/wiki_data.csv\")"
   ]
  }
 ],
 "metadata": {
  "kernelspec": {
   "display_name": "Python 3",
   "language": "python",
   "name": "python3"
  },
  "language_info": {
   "codemirror_mode": {
    "name": "ipython",
    "version": 3
   },
   "file_extension": ".py",
   "mimetype": "text/x-python",
   "name": "python",
   "nbconvert_exporter": "python",
   "pygments_lexer": "ipython3",
   "version": "3.7.4"
  }
 },
 "nbformat": 4,
 "nbformat_minor": 2
}
