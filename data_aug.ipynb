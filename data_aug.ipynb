{
 "cells": [
  {
   "cell_type": "code",
   "execution_count": 1,
   "metadata": {},
   "outputs": [],
   "source": [
    "!pip install textaugment &> /dev/null\n",
    "!pip install torch &> /dev/null\n",
    "!pip install nlpaug &> /dev/null\n",
    "!pip install wget &> /dev/null\n",
    "!pip install torchtext &> /dev/null\n",
    "!pip install --no-cache-dir transformers sentencepiece &> /dev/null\n"
   ]
  },
  {
   "cell_type": "code",
   "execution_count": 3,
   "metadata": {},
   "outputs": [
    {
     "name": "stderr",
     "output_type": "stream",
     "text": [
      "[nltk_data] Downloading package stopwords to\n",
      "[nltk_data]     /Users/eishmaheshwari/nltk_data...\n",
      "[nltk_data]   Package stopwords is already up-to-date!\n",
      "[nltk_data] Downloading package wordnet to\n",
      "[nltk_data]     /Users/eishmaheshwari/nltk_data...\n",
      "[nltk_data]   Package wordnet is already up-to-date!\n",
      "[nltk_data] Downloading package punkt to\n",
      "[nltk_data]     /Users/eishmaheshwari/nltk_data...\n",
      "[nltk_data]   Package punkt is already up-to-date!\n",
      "[nltk_data] Downloading package averaged_perceptron_tagger to\n",
      "[nltk_data]     /Users/eishmaheshwari/nltk_data...\n",
      "[nltk_data]   Package averaged_perceptron_tagger is already up-to-\n",
      "[nltk_data]       date!\n"
     ]
    },
    {
     "data": {
      "text/plain": [
       "True"
      ]
     },
     "execution_count": 3,
     "metadata": {},
     "output_type": "execute_result"
    }
   ],
   "source": [
    "import nltk\n",
    "\n",
    "nltk.download('stopwords')\n",
    "nltk.download('wordnet')\n",
    "nltk.download('punkt')\n",
    "nltk.download('averaged_perceptron_tagger')"
   ]
  },
  {
   "cell_type": "code",
   "execution_count": 2,
   "metadata": {},
   "outputs": [],
   "source": [
    "from textaugment import EDA, Translate\n",
    "import nlpaug.augmenter.word as naw\n",
    "import random\n",
    "\n",
    "# SENTENCE-WIDE AUGMENTATION\n",
    "class DataAug:\n",
    "    def __init__(self):\n",
    "        self.eda = EDA()\n",
    "                \n",
    "    def random_oversampling(self, text):\n",
    "        # Baseline\n",
    "        return text    \n",
    "    \n",
    "    def synonym_replacement(self, text):\n",
    "        return self.eda.synonym_replacement(text)\n",
    "    \n",
    "    def random_deletion(self, text, p=0.2):\n",
    "        return self.eda.random_deletion(text, p)\n",
    "    \n",
    "    def random_swap(self, text):\n",
    "        return self.eda.random_swap(text)\n",
    "    \n",
    "    def random_insertion(self, text):\n",
    "        return self.eda.random_insertion(text)\n",
    "    \n",
    "    def eda_combine(self, text):\n",
    "        def transform(sentence):\n",
    "            idx = random.randint(0, 3)\n",
    "            if idx == 0:\n",
    "                return str(self.synonym_replacement(sentence))\n",
    "            elif idx == 1:\n",
    "                return str(self.random_deletion(sentence))\n",
    "            elif idx == 2:\n",
    "                return str(self.random_swap(sentence))\n",
    "            else:\n",
    "                return str(self.random_insertion(sentence))\n",
    "                \n",
    "        sentences = nltk.sent_tokenize(text)\n",
    "        new_sentences = [transform(str(s)) for s in sentences]\n",
    "        return ' '.join(new_sentences)\n",
    "                \n",
    "    def shuffle_sentences(self, text):\n",
    "        sentences = nltk.sent_tokenize(text)\n",
    "        random.shuffle(sentences)\n",
    "        return ' '.join(sentences)\n",
    "    \n",
    "    def contextual_embedding(self, text):\n",
    "        # BERT\n",
    "        sentences = nltk.sent_tokenize(text)\n",
    "        aug = naw.ContextualWordEmbsAug(\n",
    "            model_path='bert-base-uncased', action=\"insert\")\n",
    "        new_sentences = [str(aug.augment(str(s))) for s in sentences]\n",
    "        return ' '.join(new_sentences)\n",
    "    \n",
    "    def back_translation(self, text, source_lang='en', target_lang='es'):\n",
    "        sentences = nltk.sent_tokenize(text)\n",
    "        t = Translate(src=source_lang, to=target_lang)      \n",
    "        new_sentences = [str(t.augment(str(s))) for s in sentences]\n",
    "        return ' '.join(new_sentences)"
   ]
  },
  {
   "cell_type": "code",
   "execution_count": 3,
   "metadata": {},
   "outputs": [
    {
     "name": "stdout",
     "output_type": "stream",
     "text": [
      "Pos 5664\n",
      "Neg 2114\n",
      "No data 1397\n"
     ]
    }
   ],
   "source": [
    "import pandas as pd\n",
    "\n",
    "# get scouting data\n",
    "d = pd.read_csv('data/twtc.csv')\n",
    "scouting_data = d[['text', 'label']]\n",
    "\n",
    "# separate labeled and unlabeled data\n",
    "print(\"Pos\", scouting_data[scouting_data[\"label\"] == 0].shape[0])\n",
    "print(\"Neg\", scouting_data[scouting_data[\"label\"] == 1].shape[0])\n",
    "print(\"No data\", scouting_data[scouting_data[\"label\"] == -1].shape[0])"
   ]
  },
  {
   "cell_type": "markdown",
   "metadata": {},
   "source": [
    "# Dataset Creation"
   ]
  },
  {
   "cell_type": "code",
   "execution_count": 16,
   "metadata": {},
   "outputs": [],
   "source": [
    "from sklearn.model_selection import train_test_split\n",
    "from sklearn.utils import shuffle\n",
    "\n",
    "# generate train/test with 80-20 split\n",
    "labeled = pd.read_csv('data/labeled_scouting.csv')\n",
    "# train, test = train_test_split(labeled, test_size=0.2)\n",
    "\n",
    "test = pd.read_csv('data/augment/test.csv')\n",
    "train = pd.concat([labeled, test]).drop_duplicates(keep=False)"
   ]
  },
  {
   "cell_type": "code",
   "execution_count": 18,
   "metadata": {},
   "outputs": [],
   "source": [
    "def augment(training_data, augment_function, verbose):\n",
    "    augmented_train = training_data.copy()\n",
    "    pos = augmented_train[augmented_train[\"label\"] == 1]\n",
    "    neg = augmented_train[augmented_train[\"label\"] == 0]\n",
    "    for i in range(len(neg) - len(pos)):\n",
    "        row = pos.sample().copy(deep=True)       \n",
    "        row['text'] = row['text'].map(augment_function)  \n",
    "        augmented_train = augmented_train.append(row, ignore_index=True)    \n",
    "        if verbose and i % 10 == 0:\n",
    "            print(f\"{i*100/(len(neg) - len(pos))} % done\")\n",
    "    return shuffle(augmented_train)\n",
    "\n",
    "\n",
    "def write_augment_csv(aug_function_name, aug_function, verbose=False):\n",
    "    augmented_train_eda = augment(train, aug_function, verbose)\n",
    "    augmented_train_eda.to_csv(f'data/augment/train_{aug_function_name}.csv', index=False)\n",
    "    test.to_csv(f'data/augment/test.csv', index=False)\n",
    "    \n",
    "    \n",
    "aug = DataAug()\n",
    "write_augment_csv(\"random_oversampling\", aug.random_oversampling)\n",
    "# write_augment_csv(\"eda\", aug.eda_combine)\n",
    "# write_augment_csv(\"shuffle_sentences\", aug.shuffle_sentences)\n",
    "# write_augment_csv(\"contextual_embedding\", aug.contextual_embedding, verbose=True)"
   ]
  },
  {
   "cell_type": "code",
   "execution_count": null,
   "metadata": {},
   "outputs": [],
   "source": []
  },
  {
   "cell_type": "code",
   "execution_count": null,
   "metadata": {},
   "outputs": [],
   "source": []
  }
 ],
 "metadata": {
  "kernelspec": {
   "display_name": "Python 3 (ipykernel)",
   "language": "python",
   "name": "python3"
  },
  "language_info": {
   "codemirror_mode": {
    "name": "ipython",
    "version": 3
   },
   "file_extension": ".py",
   "mimetype": "text/x-python",
   "name": "python",
   "nbconvert_exporter": "python",
   "pygments_lexer": "ipython3",
   "version": "3.9.7"
  }
 },
 "nbformat": 4,
 "nbformat_minor": 2
}
