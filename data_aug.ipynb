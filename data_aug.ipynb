{
 "cells": [
  {
   "cell_type": "code",
   "execution_count": 1,
   "metadata": {},
   "outputs": [],
   "source": [
    "!pip install textaugment &> /dev/null\n",
    "!pip install torch &> /dev/null\n",
    "!pip install nlpaug &> /dev/null\n",
    "!pip install wget &> /dev/null\n",
    "!pip install torchtext &> /dev/null\n",
    "!pip install --no-cache-dir transformers sentencepiece &> /dev/null\n"
   ]
  },
  {
   "cell_type": "code",
   "execution_count": 2,
   "metadata": {},
   "outputs": [
    {
     "name": "stderr",
     "output_type": "stream",
     "text": [
      "[nltk_data] Downloading package stopwords to\n",
      "[nltk_data]     /Users/eishmaheshwari/nltk_data...\n",
      "[nltk_data]   Package stopwords is already up-to-date!\n",
      "[nltk_data] Downloading package wordnet to\n",
      "[nltk_data]     /Users/eishmaheshwari/nltk_data...\n",
      "[nltk_data]   Package wordnet is already up-to-date!\n",
      "[nltk_data] Downloading package punkt to\n",
      "[nltk_data]     /Users/eishmaheshwari/nltk_data...\n",
      "[nltk_data]   Package punkt is already up-to-date!\n",
      "[nltk_data] Downloading package averaged_perceptron_tagger to\n",
      "[nltk_data]     /Users/eishmaheshwari/nltk_data...\n",
      "[nltk_data]   Package averaged_perceptron_tagger is already up-to-\n",
      "[nltk_data]       date!\n"
     ]
    },
    {
     "data": {
      "text/plain": [
       "True"
      ]
     },
     "execution_count": 2,
     "metadata": {},
     "output_type": "execute_result"
    }
   ],
   "source": [
    "import nltk\n",
    "\n",
    "nltk.download('stopwords')\n",
    "nltk.download('wordnet')\n",
    "nltk.download('punkt')\n",
    "nltk.download('averaged_perceptron_tagger')"
   ]
  },
  {
   "cell_type": "code",
   "execution_count": 9,
   "metadata": {},
   "outputs": [],
   "source": [
    "from textaugment import EDA, Translate\n",
    "import random\n",
    "\n",
    "class DataAug:\n",
    "    def __init__(self):\n",
    "        self.eda = EDA()\n",
    "           \n",
    "    def synonym_replacement(self, text):\n",
    "        return self.eda.synonym_replacement(text)\n",
    "    \n",
    "    def random_deletion(self, text, p=0.2):\n",
    "        return self.eda.random_deletion(text, p)\n",
    "    \n",
    "    def random_swap(self, text):\n",
    "        return self.eda.random_swap(text)\n",
    "    \n",
    "    def random_insertion(self, text):\n",
    "        return self.eda.random_insertion(text)\n",
    "    \n",
    "    def shuffle_sentences(self, text):\n",
    "        sentences = nltk.sent_tokenize(text)\n",
    "        random.shuffle(sentences)\n",
    "        return ' '.join(sentences)\n",
    "    \n",
    "    def contextual_embedding(self, text):\n",
    "        # BERT\n",
    "        aug = naw.ContextualWordEmbsAug(\n",
    "            model_path='bert-base-uncased', action=\"insert\")\n",
    "        return aug.augment(text)\n",
    "    \n",
    "    def noncontextual_embeddings(self, text):\n",
    "        # word2vec\n",
    "        naw.WordEmbsAug(model_type='word2vec', model_path='.', action=\"insert\")\n",
    "        return aug.augment(text)\n",
    "    \n",
    "    def back_translation(self, text, source_lang='en', target_lang='es'):\n",
    "        t = Translate(src=source_lang, to=target_lang)\n",
    "        return t.augment(text)"
   ]
  },
  {
   "cell_type": "code",
   "execution_count": 21,
   "metadata": {},
   "outputs": [
    {
     "name": "stdout",
     "output_type": "stream",
     "text": [
      "howdy there. My name is Dr. Eish and my best friend is Jeff. He is very sus\n"
     ]
    }
   ],
   "source": [
    "print(DataAug().synonym_replacement(\"Hi there. My name is Dr. Eish and my best friend is Jeff. He is very sus\"))"
   ]
  },
  {
   "cell_type": "code",
   "execution_count": 28,
   "metadata": {},
   "outputs": [
    {
     "name": "stdout",
     "output_type": "stream",
     "text": [
      "Pos 5664\n",
      "Neg 2114\n",
      "No data 1397\n"
     ]
    }
   ],
   "source": [
    "import pandas as pd\n",
    "import os\n",
    "\n",
    "# get scouting data\n",
    "d = pd.read_csv('data/twtc.csv')\n",
    "scouting_data = d[['text', 'label']]\n",
    "\n",
    "# separate labeled and unlabeled data\n",
    "print(\"Pos\", scouting_data[scouting_data[\"label\"] == 0].shape[0])\n",
    "print(\"Neg\", scouting_data[scouting_data[\"label\"] == 1].shape[0])\n",
    "print(\"No data\", scouting_data[scouting_data[\"label\"] == -1].shape[0])\n",
    "\n",
    "unlabeled = scouting_data[scouting_data[\"label\"] == -1]\n",
    "unlabeled.to_csv('data/unlabaled_scouting.csv', index=False)\n",
    "labeled = scouting_data[scouting_data[\"label\"] >= 0]\n",
    "labeled.to_csv('data/labeled_scouting.csv', index=False)"
   ]
  },
  {
   "cell_type": "code",
   "execution_count": 38,
   "metadata": {},
   "outputs": [],
   "source": [
    "from sklearn.model_selection import train_test_split\n",
    "\n",
    "train, test = train_test_split(scouting_data, test_size=0.2)"
   ]
  },
  {
   "cell_type": "code",
   "execution_count": null,
   "metadata": {},
   "outputs": [],
   "source": []
  }
 ],
 "metadata": {
  "kernelspec": {
   "display_name": "Python 3 (ipykernel)",
   "language": "python",
   "name": "python3"
  },
  "language_info": {
   "codemirror_mode": {
    "name": "ipython",
    "version": 3
   },
   "file_extension": ".py",
   "mimetype": "text/x-python",
   "name": "python",
   "nbconvert_exporter": "python",
   "pygments_lexer": "ipython3",
   "version": "3.9.7"
  }
 },
 "nbformat": 4,
 "nbformat_minor": 2
}
